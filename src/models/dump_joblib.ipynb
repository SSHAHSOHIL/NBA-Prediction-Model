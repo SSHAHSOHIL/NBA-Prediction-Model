{
 "cells": [
  {
   "cell_type": "code",
   "execution_count": 1,
   "metadata": {},
   "outputs": [],
   "source": [
    "import pandas as pd\n",
    "from nba_api.stats.endpoints import leaguegamefinder\n",
    "from joblib import dump"
   ]
  },
  {
   "cell_type": "code",
   "execution_count": null,
   "metadata": {},
   "outputs": [],
   "source": [
    "from nba_api.stats.endpoints import LeagueDashTeamStats\n",
    "from nba_api.stats.endpoints import LeagueGameLog\n",
    "from nba_api.stats.static import teams\n",
    "\n",
    "team_name_to_id = {}\n",
    "for t in teams.get_teams():\n",
    "    team_name_to_id[t['abbreviation']] = t['id']\n",
    "\n",
    "df_team = (\n",
    "    LeagueDashTeamStats (\n",
    "        season= '2024-25',\n",
    "        season_type_all_star='Regular Season'\n",
    "    )\n",
    "    .get_data_frames()[0]\n",
    ")\n",
    "\n",
    "features = ['TEAM_ID', 'W_PCT', 'PTS_RANK', 'AST_RANK', 'REB_RANK']\n",
    "season_team_prev_features = df_team[features]"
   ]
  },
  {
   "cell_type": "code",
   "execution_count": 38,
   "metadata": {},
   "outputs": [
    {
     "data": {
      "text/plain": [
       "['team_elos.joblib']"
      ]
     },
     "execution_count": 38,
     "metadata": {},
     "output_type": "execute_result"
    }
   ],
   "source": [
    "df_games = (\n",
    "    LeagueGameLog(\n",
    "        season = '2024-25',\n",
    "        season_type_all_star='Playoffs'\n",
    "    ).get_data_frames()[0]\n",
    ")\n",
    "\n",
    "df_games['WIN'] = (df_games['WL'] == 'W').astype(int)\n",
    "\n",
    "df_games_with_season_stats = df_games.merge (\n",
    "    season_team_prev_features,\n",
    "    on = 'TEAM_ID',\n",
    "    how = 'left'\n",
    ")\n",
    "\n",
    "\n",
    "new_col = []\n",
    "home_col = []\n",
    "for line in df_games_with_season_stats['MATCHUP']:\n",
    "    team, vs, opp = line.split()\n",
    "    if vs != '@':\n",
    "        home_col.append(1)\n",
    "    else:\n",
    "        home_col.append(0)\n",
    "    new_col.append(team_name_to_id[opp])\n",
    "\n",
    "df_games_with_season_stats['OPP_ID'] = new_col\n",
    "df_games_with_season_stats['is_home'] = home_col\n",
    "\n",
    "\n",
    "def elo_win_prob(elo_a, elo_b):\n",
    "    pt1 = 1 + pow(10, (elo_b - elo_a)/400)\n",
    "    return 1 / pt1\n",
    "\n",
    "# elo rankings for the teams as the season goes on\n",
    "\n",
    "team_elos = {}\n",
    "for id in df_games_with_season_stats['TEAM_ID'].unique():\n",
    "    team_elos[id] = 1500\n",
    "\n",
    "\n",
    "K = 20 # learning rate, essentially how dramatically the ranking moves game by game\n",
    "# whether the team loses or wins\n",
    "\n",
    "pre_elo = []\n",
    "pre_opp_elo = []\n",
    "df_games_with_season_stats = df_games_with_season_stats.sort_values(['GAME_DATE','TEAM_ID']).reset_index(drop=True)\n",
    "\n",
    "for _, r in df_games_with_season_stats.iterrows():\n",
    "    team_id = r['TEAM_ID']\n",
    "    opp_id = r['OPP_ID']\n",
    "\n",
    "   \n",
    "    e_t = team_elos[team_id]\n",
    "    e_o = team_elos[opp_id]\n",
    "    \n",
    "    pre_elo.append(e_t)\n",
    "    pre_opp_elo.append(e_o)\n",
    "\n",
    "    expected_prob = elo_win_prob(e_t, e_o)\n",
    "    s_a = r['WIN']\n",
    "\n",
    "\n",
    "    team_elos[team_id] = e_t + K * (s_a - expected_prob)\n",
    "    team_elos[opp_id] = e_o + K * ((1 - s_a) - (1 - expected_prob))\n",
    "\n",
    "dump(team_elos, 'team_elos.joblib')\n"
   ]
  },
  {
   "cell_type": "code",
   "execution_count": 41,
   "metadata": {},
   "outputs": [],
   "source": [
    "# momentum\n",
    "df_games_with_season_stats['momentum_5'] = (\n",
    "    df_games_with_season_stats.groupby('TEAM_ID')['WIN']\n",
    "        .rolling(window = 5, min_periods=1)\n",
    "        .mean()\n",
    "        .shift(1) # prevent leakage of knowing the Game N's result\n",
    "        .reset_index(level=0, drop=True)\n",
    ")\n",
    "\n",
    "df_games_with_season_stats['momentum_5'] = df_games_with_season_stats['momentum_5'].fillna(0)"
   ]
  },
  {
   "cell_type": "code",
   "execution_count": null,
   "metadata": {},
   "outputs": [],
   "source": [
    "latest_momentum = df_games_with_season_stats.groupby('TEAM_ID')['momentum_5'].last()\n",
    "dump(latest_momentum, 'last_mom5.joblib')"
   ]
  }
 ],
 "metadata": {
  "kernelspec": {
   "display_name": ".venv",
   "language": "python",
   "name": "python3"
  },
  "language_info": {
   "codemirror_mode": {
    "name": "ipython",
    "version": 3
   },
   "file_extension": ".py",
   "mimetype": "text/x-python",
   "name": "python",
   "nbconvert_exporter": "python",
   "pygments_lexer": "ipython3",
   "version": "3.12.3"
  }
 },
 "nbformat": 4,
 "nbformat_minor": 2
}
